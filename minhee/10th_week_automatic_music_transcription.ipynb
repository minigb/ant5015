{
  "cells": [
    {
      "cell_type": "markdown",
      "metadata": {
        "colab_type": "text",
        "id": "view-in-github"
      },
      "source": [
        "<a href=\"https://colab.research.google.com/github/jdasam/ant5015/blob/main/notebooks/10th_week_automatic_music_transcription.ipynb\" target=\"_parent\"><img src=\"https://colab.research.google.com/assets/colab-badge.svg\" alt=\"Open In Colab\"/></a>"
      ]
    },
    {
      "cell_type": "markdown",
      "metadata": {
        "id": "gAOhB878Qfo2"
      },
      "source": [
        "## 0. Download Dataset"
      ]
    },
    {
      "cell_type": "code",
      "execution_count": null,
      "metadata": {
        "id": "KirgX5lzQfo4",
        "metadata": {},
        "outputId": "9b793f3c-f1d8-401c-f9c2-6147eb490bf2"
      },
      "outputs": [],
      "source": [
        "# !gdown --id 1L99FSzloXGQsmc-OwsVKggvQNF9niN2M\n",
        "# !unzip -q maestro_small.zip\n"
      ]
    },
    {
      "cell_type": "code",
      "execution_count": null,
      "metadata": {
        "id": "_dvPGseFQfo5"
      },
      "outputs": [],
      "source": [
        "# !pip install mido pretty_midi"
      ]
    },
    {
      "cell_type": "markdown",
      "metadata": {
        "id": "f0sRBzbAQfo5"
      },
      "source": [
        "## 1. Preprocess Data"
      ]
    },
    {
      "cell_type": "code",
      "execution_count": 3,
      "metadata": {
        "id": "-6_YAXPAQfo6"
      },
      "outputs": [],
      "source": [
        "from mido import Message, MidiFile, MidiTrack, MetaMessage\n"
      ]
    },
    {
      "cell_type": "markdown",
      "metadata": {
        "id": "ATQn-qZeQfo6"
      },
      "source": [
        "## 2. Model"
      ]
    },
    {
      "cell_type": "markdown",
      "metadata": {},
      "source": [
        "spectrogram에서의 "
      ]
    },
    {
      "cell_type": "code",
      "execution_count": null,
      "metadata": {
        "id": "8kpw-hL7Qfo6"
      },
      "outputs": [],
      "source": []
    },
    {
      "cell_type": "markdown",
      "metadata": {
        "id": "KAqO8bxVQfo6"
      },
      "source": [
        "## 3. Training"
      ]
    },
    {
      "cell_type": "code",
      "execution_count": null,
      "metadata": {
        "id": "aho6SiFCQfo6"
      },
      "outputs": [],
      "source": []
    }
  ],
  "metadata": {
    "colab": {
      "include_colab_link": true,
      "provenance": []
    },
    "kernelspec": {
      "display_name": "Python 3",
      "language": "python",
      "name": "python3"
    },
    "language_info": {
      "codemirror_mode": {
        "name": "ipython",
        "version": 3
      },
      "file_extension": ".py",
      "mimetype": "text/x-python",
      "name": "python",
      "nbconvert_exporter": "python",
      "pygments_lexer": "ipython3",
      "version": "3.10.14"
    }
  },
  "nbformat": 4,
  "nbformat_minor": 0
}
