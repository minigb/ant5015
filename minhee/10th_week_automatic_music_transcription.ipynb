{
  "cells": [
    {
      "cell_type": "markdown",
      "metadata": {
        "colab_type": "text",
        "id": "view-in-github"
      },
      "source": [
        "<a href=\"https://colab.research.google.com/github/jdasam/ant5015/blob/main/notebooks/10th_week_automatic_music_transcription.ipynb\" target=\"_parent\"><img src=\"https://colab.research.google.com/assets/colab-badge.svg\" alt=\"Open In Colab\"/></a>"
      ]
    },
    {
      "cell_type": "markdown",
      "metadata": {
        "id": "gAOhB878Qfo2"
      },
      "source": [
        "## 0. Download Dataset"
      ]
    },
    {
      "cell_type": "code",
      "execution_count": 1,
      "metadata": {
        "id": "KirgX5lzQfo4",
        "metadata": {},
        "outputId": "9b793f3c-f1d8-401c-f9c2-6147eb490bf2"
      },
      "outputs": [
        {
          "name": "stdout",
          "output_type": "stream",
          "text": [
            "/home/minhee/miniconda3/envs/dlma/lib/python3.10/site-packages/gdown/__main__.py:140: FutureWarning: Option `--id` was deprecated in version 4.3.1 and will be removed in 5.0. You don't need to pass it anymore to use a file ID.\n",
            "  warnings.warn(\n",
            "Downloading...\n",
            "From (original): https://drive.google.com/uc?id=1L99FSzloXGQsmc-OwsVKggvQNF9niN2M\n",
            "From (redirected): https://drive.google.com/uc?id=1L99FSzloXGQsmc-OwsVKggvQNF9niN2M&confirm=t&uuid=159e0afa-de61-4ef7-8d99-94dbc98b107e\n",
            "To: /home/minhee/userdata/ant5015/minhee/maestro_small.zip\n",
            "100%|██████████████████████████████████████| 1.14G/1.14G [04:34<00:00, 4.14MB/s]\n"
          ]
        }
      ],
      "source": [
        "!gdown --id 1L99FSzloXGQsmc-OwsVKggvQNF9niN2M\n",
        "!unzip -q maestro_small.zip\n"
      ]
    },
    {
      "cell_type": "code",
      "execution_count": 2,
      "metadata": {
        "id": "_dvPGseFQfo5"
      },
      "outputs": [
        {
          "name": "stdout",
          "output_type": "stream",
          "text": [
            "Requirement already satisfied: mido in /home/minhee/miniconda3/envs/dlma/lib/python3.10/site-packages (1.3.2)\n",
            "Requirement already satisfied: pretty_midi in /home/minhee/miniconda3/envs/dlma/lib/python3.10/site-packages (0.2.10)\n",
            "Requirement already satisfied: packaging~=23.1 in /home/minhee/miniconda3/envs/dlma/lib/python3.10/site-packages (from mido) (23.2)\n",
            "Requirement already satisfied: numpy>=1.7.0 in /home/minhee/miniconda3/envs/dlma/lib/python3.10/site-packages (from pretty_midi) (1.26.4)\n",
            "Requirement already satisfied: six in /home/minhee/miniconda3/envs/dlma/lib/python3.10/site-packages (from pretty_midi) (1.16.0)\n"
          ]
        }
      ],
      "source": [
        "!pip install mido pretty_midi"
      ]
    },
    {
      "cell_type": "markdown",
      "metadata": {
        "id": "f0sRBzbAQfo5"
      },
      "source": [
        "## 1. Preprocess Data"
      ]
    },
    {
      "cell_type": "code",
      "execution_count": 3,
      "metadata": {
        "id": "-6_YAXPAQfo6"
      },
      "outputs": [],
      "source": [
        "from mido import Message, MidiFile, MidiTrack, MetaMessage\n"
      ]
    },
    {
      "cell_type": "markdown",
      "metadata": {
        "id": "ATQn-qZeQfo6"
      },
      "source": [
        "## 2. Model"
      ]
    },
    {
      "cell_type": "code",
      "execution_count": null,
      "metadata": {
        "id": "8kpw-hL7Qfo6"
      },
      "outputs": [],
      "source": []
    },
    {
      "cell_type": "markdown",
      "metadata": {
        "id": "KAqO8bxVQfo6"
      },
      "source": [
        "## 3. Training"
      ]
    },
    {
      "cell_type": "code",
      "execution_count": null,
      "metadata": {
        "id": "aho6SiFCQfo6"
      },
      "outputs": [],
      "source": []
    }
  ],
  "metadata": {
    "colab": {
      "include_colab_link": true,
      "provenance": []
    },
    "kernelspec": {
      "display_name": "Python 3",
      "language": "python",
      "name": "python3"
    },
    "language_info": {
      "codemirror_mode": {
        "name": "ipython",
        "version": 3
      },
      "file_extension": ".py",
      "mimetype": "text/x-python",
      "name": "python",
      "nbconvert_exporter": "python",
      "pygments_lexer": "ipython3",
      "version": "3.10.14"
    }
  },
  "nbformat": 4,
  "nbformat_minor": 0
}
